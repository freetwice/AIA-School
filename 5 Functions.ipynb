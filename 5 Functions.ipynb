{
 "cells": [
  {
   "cell_type": "markdown",
   "metadata": {},
   "source": [
    "# 函式 - Functions"
   ]
  },
  {
   "cell_type": "markdown",
   "metadata": {},
   "source": [
    "本章節內容大綱\n",
    "* [函式 Function](#函式-Function)\n",
    "* [匿名函式 Lambda Function](#匿名函式-Lambda-Function)\n",
    "* [產生器 Generator](#產生器-Generator)\n",
    "* [星號，args 和 kargs](#星號-args-kargs)"
   ]
  },
  {
   "cell_type": "markdown",
   "metadata": {},
   "source": [
    "## 函式 Function"
   ]
  },
  {
   "cell_type": "code",
   "execution_count": 3,
   "metadata": {},
   "outputs": [
    {
     "data": {
      "text/plain": [
       "\"\\n    \\n    def function_name(parameters):\\n        'function docstring'\\n        do something\\n        return something\\n\\n\""
      ]
     },
     "execution_count": 3,
     "metadata": {},
     "output_type": "execute_result"
    }
   ],
   "source": [
    "'''\n",
    "    \n",
    "    def function_name(parameters):\n",
    "        'function docstring'\n",
    "        do something\n",
    "        return something\n",
    "\n",
    "'''"
   ]
  },
  {
   "cell_type": "code",
   "execution_count": 4,
   "metadata": {},
   "outputs": [],
   "source": [
    "# 什麼事都沒有做的 function\n",
    "def do_nothing():\n",
    "    pass\n",
    "\n",
    "# 沒有參數/回傳值的，純粹執行一些事情的 function\n",
    "def say_hello():\n",
    "    print(f'hello!')\n",
    "    \n",
    "# 沒有參數，但有回傳值的 function\n",
    "def three():\n",
    "    return 3\n",
    "\n",
    "# 有參數/回傳值的 function\n",
    "def add(a, b):\n",
    "    '''This function adds up two parameters and then return.\n",
    "        \n",
    "    '''\n",
    "    print(f'a = {a}, b = {b}')\n",
    "    return a + b"
   ]
  },
  {
   "cell_type": "code",
   "execution_count": 5,
   "metadata": {},
   "outputs": [],
   "source": [
    "do_nothing()"
   ]
  },
  {
   "cell_type": "code",
   "execution_count": 6,
   "metadata": {},
   "outputs": [
    {
     "name": "stdout",
     "output_type": "stream",
     "text": [
      "hello!\n"
     ]
    }
   ],
   "source": [
    "say_hello()"
   ]
  },
  {
   "cell_type": "code",
   "execution_count": 7,
   "metadata": {},
   "outputs": [
    {
     "name": "stdout",
     "output_type": "stream",
     "text": [
      "3\n"
     ]
    }
   ],
   "source": [
    "print(three())"
   ]
  },
  {
   "cell_type": "code",
   "execution_count": 8,
   "metadata": {},
   "outputs": [
    {
     "name": "stdout",
     "output_type": "stream",
     "text": [
      "a = 3, b = 7\n",
      "10\n"
     ]
    }
   ],
   "source": [
    "print(add(3, 7))"
   ]
  },
  {
   "cell_type": "code",
   "execution_count": 9,
   "metadata": {},
   "outputs": [
    {
     "name": "stdout",
     "output_type": "stream",
     "text": [
      "[2, 3, 5, 7, 11, 13, 17, 19, 23, 29, 31, 37, 41, 43, 47, 53, 59, 61, 67, 71, 73, 79, 83, 89, 97]\n"
     ]
    }
   ],
   "source": [
    "def find_prime(x):\n",
    "    \n",
    "    prime = [True] * (x + 1)\n",
    "    prime[0] = False\n",
    "    prime[1] = False\n",
    "    \n",
    "    i = 2\n",
    "    while i < x:\n",
    "        \n",
    "        while i < x and prime[i] == False:\n",
    "            i += 1\n",
    "            \n",
    "        for value in range(2*i, x + 1, i):\n",
    "            prime[value] = False\n",
    "            \n",
    "        i += 1\n",
    "        \n",
    "    return [index for index, value in enumerate(prime) if value == True]"
   ]
  },
  {
   "cell_type": "markdown",
   "metadata": {},
   "source": [
    "### 語法"
   ]
  },
  {
   "cell_type": "code",
   "execution_count": null,
   "metadata": {},
   "outputs": [],
   "source": [
    "'''\n",
    "def function_name():\n",
    "\n",
    "    do something\n",
    "    \n",
    "    return something\n",
    "\n",
    "'''"
   ]
  },
  {
   "cell_type": "markdown",
   "metadata": {},
   "source": [
    "## 匿名函式 Lambda Function"
   ]
  },
  {
   "cell_type": "code",
   "execution_count": 20,
   "metadata": {},
   "outputs": [
    {
     "data": {
      "text/plain": [
       "'Hello!'"
      ]
     },
     "execution_count": 20,
     "metadata": {},
     "output_type": "execute_result"
    }
   ],
   "source": [
    "'''\n",
    "\n",
    "function_name = lambda p1 p2\n",
    "\n",
    "'''\n",
    "\n",
    "f = lambda Str: Str.capitalize() + '!'\n",
    "\n",
    "\n",
    "f('hello')"
   ]
  },
  {
   "cell_type": "code",
   "execution_count": 5,
   "metadata": {},
   "outputs": [
    {
     "name": "stdout",
     "output_type": "stream",
     "text": [
      "7\n"
     ]
    }
   ],
   "source": [
    "f = lambda x, y: x**2 + y\n",
    "\n",
    "print(f(2, 3))"
   ]
  },
  {
   "cell_type": "markdown",
   "metadata": {},
   "source": [
    "## 產生器 Generator"
   ]
  },
  {
   "cell_type": "code",
   "execution_count": 6,
   "metadata": {},
   "outputs": [],
   "source": [
    "def random(N):\n",
    "    \n",
    "    import random\n",
    "    \n",
    "    L = [i for i in range(N)]\n",
    "    random.shuffle(L)\n",
    "    \n",
    "    for v in L:\n",
    "        yield v\n",
    "    \n",
    "    print('end')"
   ]
  },
  {
   "cell_type": "code",
   "execution_count": 7,
   "metadata": {},
   "outputs": [
    {
     "name": "stdout",
     "output_type": "stream",
     "text": [
      "7\n",
      "2\n",
      "0\n",
      "3\n",
      "9\n",
      "5\n",
      "6\n",
      "1\n",
      "4\n",
      "8\n"
     ]
    }
   ],
   "source": [
    "Deck = random(10)\n",
    "\n",
    "print(next(Deck))\n",
    "print(next(Deck))\n",
    "print(next(Deck))\n",
    "print(next(Deck))\n",
    "print(next(Deck))\n",
    "print(next(Deck))\n",
    "print(next(Deck))\n",
    "print(next(Deck))\n",
    "print(next(Deck))\n",
    "print(next(Deck))"
   ]
  },
  {
   "cell_type": "code",
   "execution_count": 70,
   "metadata": {},
   "outputs": [],
   "source": [
    "def myRange(start=0, end=0, step=1):\n",
    "    number = start\n",
    "    while number < end:\n",
    "        yield number\n",
    "        number += step"
   ]
  },
  {
   "cell_type": "markdown",
   "metadata": {},
   "source": [
    "## 星號 args kargs"
   ]
  },
  {
   "cell_type": "code",
   "execution_count": 75,
   "metadata": {},
   "outputs": [],
   "source": [
    "def myRange(*args):\n",
    "    \n",
    "    start, end, step = 0, 10, 1\n",
    "    \n",
    "    if len(args) == 1:\n",
    "        end = args[0]\n",
    "    if len(args) >= 2:\n",
    "        start = args[0]\n",
    "        end = args[1]\n",
    "    if len(args) == 3:\n",
    "        step = args[2]\n",
    "    \n",
    "    index = start\n",
    "    while step > 0 and index < end or step < 0 and index > end:\n",
    "        yield index\n",
    "        index += step"
   ]
  },
  {
   "cell_type": "code",
   "execution_count": 1,
   "metadata": {},
   "outputs": [
    {
     "data": {
      "text/plain": [
       "105"
      ]
     },
     "execution_count": 1,
     "metadata": {},
     "output_type": "execute_result"
    }
   ],
   "source": [
    "# quiz1: 實作一個 lambda function，把輸入(數字）平方之後加上 5 回傳。\n",
    "count = lambda x :x**2+5\n",
    "count(10)"
   ]
  },
  {
   "cell_type": "code",
   "execution_count": 8,
   "metadata": {},
   "outputs": [
    {
     "name": "stdout",
     "output_type": "stream",
     "text": [
      "***\r\n"
     ]
    }
   ],
   "source": [
    "# quiz2: 實作一個 function，輸入寬 (w) 及長 (l) 後印出如附圖所示的鉛筆形狀。\n",
    "\n",
    "# |******\n",
    "# |*******\n",
    "# w********\n",
    "# |*******\n",
    "# |******\n",
    "#  --l--\n",
    "\n",
    "# e.g. \n",
    "# pencil(5, 6) 會印出\n",
    "# ******\n",
    "# *******\n",
    "# ********\n",
    "# *******\n",
    "# ******\n",
    "\n",
    "def pencil(w, l):\n",
    "# 取寬度中數\n",
    "    mid = int((w+1)/2)\n",
    "# 輸出上半段\n",
    "    for i in range(0, mid):\n",
    "        for j in range(mid,)\n",
    "        print('*'*i, end='')\n",
    "    print('\\r')\n",
    "# 輸出下半段   \n",
    "\n",
    "        \n",
    "pencil(5,6)"
   ]
  },
  {
   "cell_type": "code",
   "execution_count": 10,
   "metadata": {},
   "outputs": [],
   "source": [
    "# quiz3: 建構一個 費式數列 的 generator\n",
    "\n",
    "# 使用 next() 的時候\n",
    "# 第一次 yield 1\n",
    "# 第二次 yield 1\n",
    "# 第三次 yield 2\n",
    "# 第四次 yield 3\n",
    "# 第五次 yield 5\n",
    "# ... 以此類推\n",
    "\n",
    "def fib_generator(n):\n",
    "    # your code here\n",
    "    i, a, b = 2, 0, 1\n",
    "    if n < 2:\n",
    "        yield n\n",
    "    print(0)\n",
    "    while i < n:\n",
    "        yield b\n",
    "        a,b = b, a+b\n",
    "        i += 1        "
   ]
  },
  {
   "cell_type": "code",
   "execution_count": 11,
   "metadata": {},
   "outputs": [
    {
     "name": "stdout",
     "output_type": "stream",
     "text": [
      "0\n",
      "1\n",
      "3\n",
      "8\n",
      "21\n"
     ]
    }
   ],
   "source": [
    "# 可以使用此段程式驗證你的 generator 有沒有成功\n",
    "f = fib_generator(10)\n",
    "for i in f:\n",
    "    print(next(f))"
   ]
  }
 ],
 "metadata": {
  "kernelspec": {
   "display_name": "Python 3",
   "language": "python",
   "name": "python3"
  },
  "language_info": {
   "codemirror_mode": {
    "name": "ipython",
    "version": 3
   },
   "file_extension": ".py",
   "mimetype": "text/x-python",
   "name": "python",
   "nbconvert_exporter": "python",
   "pygments_lexer": "ipython3",
   "version": "3.7.3"
  }
 },
 "nbformat": 4,
 "nbformat_minor": 4
}
